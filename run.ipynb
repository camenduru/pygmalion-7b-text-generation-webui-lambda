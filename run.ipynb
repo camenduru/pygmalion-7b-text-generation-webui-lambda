{
 "cells": [
  {
   "cell_type": "code",
   "execution_count": null,
   "metadata": {},
   "outputs": [],
   "source": [
    "!sudo apt -y install -qq aria2\n",
    "%cd /home/ubuntu\n",
    "!git clone -b v1.4 https://github.com/camenduru/text-generation-webui\n",
    "%cd /home/ubuntu/text-generation-webui\n",
    "!pip install -r requirements.txt\n",
    "\n",
    "!aria2c --console-log-level=error -c -x 16 -s 16 -k 1M https://huggingface.co/4bit/pygmalion-7b/raw/main/config.json -d /home/demo/source/text-generation-webui/models/pygmalion-7b -o config.json\n",
    "!aria2c --console-log-level=error -c -x 16 -s 16 -k 1M https://huggingface.co/4bit/pygmalion-7b/raw/main/generation_config.json -d /home/demo/source/text-generation-webui/models/pygmalion-7b -o generation_config.json\n",
    "!aria2c --console-log-level=error -c -x 16 -s 16 -k 1M https://huggingface.co/4bit/pygmalion-7b/raw/main/special_tokens_map.json -d /home/demo/source/text-generation-webui/models/pygmalion-7b -o special_tokens_map.json\n",
    "!aria2c --console-log-level=error -c -x 16 -s 16 -k 1M https://huggingface.co/4bit/pygmalion-7b/resolve/main/tokenizer.model -d /home/demo/source/text-generation-webui/models/pygmalion-7b -o tokenizer.model\n",
    "!aria2c --console-log-level=error -c -x 16 -s 16 -k 1M https://huggingface.co/4bit/pygmalion-7b/raw/main/tokenizer_config.json -d /home/demo/source/text-generation-webui/models/pygmalion-7b -o tokenizer_config.json\n",
    "!aria2c --console-log-level=error -c -x 16 -s 16 -k 1M https://huggingface.co/4bit/pygmalion-7b/resolve/main/model-00001-of-00002.safetensors -d /home/demo/source/text-generation-webui/models/pygmalion-7b -o model-00001-of-00002.safetensors\n",
    "!aria2c --console-log-level=error -c -x 16 -s 16 -k 1M https://huggingface.co/4bit/pygmalion-7b/resolve/main/model-00002-of-00002.safetensors -d /home/demo/source/text-generation-webui/models/pygmalion-7b -o model-00002-of-00002.safetensors\n",
    "!aria2c --console-log-level=error -c -x 16 -s 16 -k 1M https://huggingface.co/4bit/pygmalion-7b/resolve/main/model.safetensors.index.json -d /home/demo/source/text-generation-webui/models/pygmalion-7b -o model.safetensors.index.json\n",
    "\n",
    "!python server.py --chat --share"
   ]
  }
 ],
 "metadata": {
  "language_info": {
   "name": "python"
  },
  "orig_nbformat": 4
 },
 "nbformat": 4,
 "nbformat_minor": 2
}
